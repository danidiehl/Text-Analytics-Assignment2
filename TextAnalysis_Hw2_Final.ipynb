{
 "cells": [
  {
   "cell_type": "markdown",
   "metadata": {},
   "source": [
    "# Text Analytics Group Assignment2\n",
    "Due: September 25, 2017, by 11:59 p.m. In this assignment you are an analytics consultant to a   (i) brand manager, (ii) product manager and (iii)advertising manager. Your job is    to give advice/insights to these individuals based on the analysis of social media conversations. The detailed tasks are described below. We use cars as an example of a “high involvement” good (recall from class discussions that for high involvement goods, people use social media heavily for awareness building and research).\n",
    "\n",
    "1.Develop a   crawler/scraper to fetch messages posted in Edmunds.com discussion forums. The crawler output should be a .csv file with the following columns: date, userid, and message (even though you will only use the messages in your analysis). Before you develop the crawler, carefully study one of the forums on Edmunds.com to understand the html as well as the threading structures.\n",
    "\n",
    "2.Fetch between 5,000 and 10,000 posts about cars from a General topics forum. Do NOT choosea forum dedicated to a   particular brand or model. Instead, you can choose the General & Sedans categories and then select, for example, the Entry Level Luxury forum https://forums.edmunds.com/discussion/2864/general/x/entry-level-luxury-performance-sedansThe idea is    to have multiple brands and models being discussed without one of them being the focal point.\n",
    "\n",
    "3.Once you fetch the data, find the top 10 brands from frequency counts. You will need to write a script to count the frequencies. Be sure not to count a mention more than once per post, evenif   it    is mentioned multiple times.Replace modelswith brands so that from now on you have to deal with only brands and not models. You will need another script for this job. This step is meant to help simplify the analysis. A    list of model and brand names (not exhaustive) are provided in a separate file."
   ]
  },
  {
   "cell_type": "markdown",
   "metadata": {},
   "source": [
    "#### Task A:\n",
    "Identify top 10 brands by frequency. From the posts, calculate lift ratios for associations between the brands. You will have to write a   script to do this task). Show the brands on a   multi-dimensional scaling (MDS) map (use a Python script for MDS, there are multiple scripts available onthe Internet). "
   ]
  },
  {
   "cell_type": "code",
   "execution_count": 1,
   "metadata": {
    "collapsed": true
   },
   "outputs": [],
   "source": [
    "import nltk\n",
    "import pandas as pd\n",
    "import numpy as np\n",
    "from nltk.corpus import stopwords, wordnet\n",
    "import itertools\n",
    "import matplotlib.pyplot as plt\n",
    "from sklearn import manifold\n",
    "from nltk import pos_tag, word_tokenize\n",
    "from nltk.probability import FreqDist"
   ]
  },
  {
   "cell_type": "code",
   "execution_count": 2,
   "metadata": {
    "scrolled": true
   },
   "outputs": [
    {
     "data": {
      "text/plain": [
       "5750"
      ]
     },
     "execution_count": 2,
     "metadata": {},
     "output_type": "execute_result"
    }
   ],
   "source": [
    "#car forum data\n",
    "\n",
    "forum_data =pd.read_csv('/Users/brettscroggins/Downloads/reed_new_out.csv', header = 0)\n",
    "forum_data = forum_data[['date','userid','message']]\n",
    "\n",
    "df2=pd.DataFrame([['April 12, 2002 2:53PM','dani','bmw toyota pontiac honda acura audi nissan infiniti ford subaru']], columns=['date','userid','message'])\n",
    "forum_data=forum_data.append(df2)\n",
    "forum_data['message']=forum_data['message'].str.lower()\n",
    "len(forum_data['message'].value_counts())"
   ]
  },
  {
   "cell_type": "code",
   "execution_count": 3,
   "metadata": {
    "collapsed": true,
    "scrolled": true
   },
   "outputs": [],
   "source": [
    "#list of car brands/names\n",
    "model_list =pd.read_csv('Cars make model list3.csv', header = 2)\n",
    "model_list['Search']=model_list['Search'].str.lower()"
   ]
  },
  {
   "cell_type": "code",
   "execution_count": 4,
   "metadata": {
    "scrolled": true
   },
   "outputs": [
    {
     "data": {
      "text/html": [
       "<div>\n",
       "<style>\n",
       "    .dataframe thead tr:only-child th {\n",
       "        text-align: right;\n",
       "    }\n",
       "\n",
       "    .dataframe thead th {\n",
       "        text-align: left;\n",
       "    }\n",
       "\n",
       "    .dataframe tbody tr th {\n",
       "        vertical-align: top;\n",
       "    }\n",
       "</style>\n",
       "<table border=\"1\" class=\"dataframe\">\n",
       "  <thead>\n",
       "    <tr style=\"text-align: right;\">\n",
       "      <th></th>\n",
       "      <th>Replace</th>\n",
       "      <th>Search</th>\n",
       "      <th>Search1</th>\n",
       "    </tr>\n",
       "  </thead>\n",
       "  <tbody>\n",
       "    <tr>\n",
       "      <th>9</th>\n",
       "      <td>audi</td>\n",
       "      <td>quattro</td>\n",
       "      <td>quattro</td>\n",
       "    </tr>\n",
       "    <tr>\n",
       "      <th>10</th>\n",
       "      <td>audi</td>\n",
       "      <td>a4</td>\n",
       "      <td>a4</td>\n",
       "    </tr>\n",
       "    <tr>\n",
       "      <th>11</th>\n",
       "      <td>audi</td>\n",
       "      <td>a6</td>\n",
       "      <td>a6</td>\n",
       "    </tr>\n",
       "    <tr>\n",
       "      <th>12</th>\n",
       "      <td>audi</td>\n",
       "      <td>a5</td>\n",
       "      <td>a5</td>\n",
       "    </tr>\n",
       "    <tr>\n",
       "      <th>13</th>\n",
       "      <td>audi</td>\n",
       "      <td>a7</td>\n",
       "      <td>a7</td>\n",
       "    </tr>\n",
       "    <tr>\n",
       "      <th>14</th>\n",
       "      <td>audi</td>\n",
       "      <td>q3</td>\n",
       "      <td>q3</td>\n",
       "    </tr>\n",
       "    <tr>\n",
       "      <th>15</th>\n",
       "      <td>audi</td>\n",
       "      <td>q5</td>\n",
       "      <td>q5</td>\n",
       "    </tr>\n",
       "    <tr>\n",
       "      <th>16</th>\n",
       "      <td>audi</td>\n",
       "      <td>q7</td>\n",
       "      <td>q7</td>\n",
       "    </tr>\n",
       "    <tr>\n",
       "      <th>17</th>\n",
       "      <td>audi</td>\n",
       "      <td>a8</td>\n",
       "      <td>a8</td>\n",
       "    </tr>\n",
       "    <tr>\n",
       "      <th>18</th>\n",
       "      <td>audi</td>\n",
       "      <td>a3</td>\n",
       "      <td>a3</td>\n",
       "    </tr>\n",
       "  </tbody>\n",
       "</table>\n",
       "</div>"
      ],
      "text/plain": [
       "   Replace   Search  Search1\n",
       "9     audi  quattro  quattro\n",
       "10    audi       a4       a4\n",
       "11    audi       a6       a6\n",
       "12    audi       a5       a5\n",
       "13    audi       a7       a7\n",
       "14    audi       q3       q3\n",
       "15    audi       q5       q5\n",
       "16    audi       q7       q7\n",
       "17    audi       a8       a8\n",
       "18    audi       a3       a3"
      ]
     },
     "execution_count": 4,
     "metadata": {},
     "output_type": "execute_result"
    }
   ],
   "source": [
    "# some of the Search values from the model_list df have a weird format after that we need to remove\n",
    "# 'legend\\xca'.replace('\\xc2\\xa0','')\n",
    "model_list['Search'].replace('\\xca','').values\n",
    "\n",
    "ls=model_list['Search'].tolist()\n",
    "for i in range(len(ls)):\n",
    "    ls[i]=ls[i].replace('\\xca','')\n",
    "range(len(ls))\n",
    "model_list['Search1']=ls #setting new column equal to correct values\n",
    "model_list[model_list['Replace']=='audi']"
   ]
  },
  {
   "cell_type": "code",
   "execution_count": 5,
   "metadata": {
    "collapsed": true
   },
   "outputs": [],
   "source": [
    "def replace_model(s):\n",
    "    for model in model_list['Search1'].values:\n",
    "        if model in s:\n",
    "            s=s.replace(model,model_list[model_list['Search1']==model]['Replace'].values[0])\n",
    "    return s"
   ]
  },
  {
   "cell_type": "code",
   "execution_count": 6,
   "metadata": {
    "scrolled": true
   },
   "outputs": [
    {
     "data": {
      "text/html": [
       "<div>\n",
       "<style>\n",
       "    .dataframe thead tr:only-child th {\n",
       "        text-align: right;\n",
       "    }\n",
       "\n",
       "    .dataframe thead th {\n",
       "        text-align: left;\n",
       "    }\n",
       "\n",
       "    .dataframe tbody tr th {\n",
       "        vertical-align: top;\n",
       "    }\n",
       "</style>\n",
       "<table border=\"1\" class=\"dataframe\">\n",
       "  <thead>\n",
       "    <tr style=\"text-align: right;\">\n",
       "      <th></th>\n",
       "      <th>date</th>\n",
       "      <th>userid</th>\n",
       "      <th>message</th>\n",
       "      <th>message_clean</th>\n",
       "    </tr>\n",
       "  </thead>\n",
       "  <tbody>\n",
       "    <tr>\n",
       "      <th>0</th>\n",
       "      <td>March 23, 2002  7:04PM</td>\n",
       "      <td>cybersol</td>\n",
       "      <td>entry level performance luxury sedans are a ho...</td>\n",
       "      <td>entry level performance luxury sedans are a ho...</td>\n",
       "    </tr>\n",
       "    <tr>\n",
       "      <th>1</th>\n",
       "      <td>March 25, 2002  5:54AM</td>\n",
       "      <td>merc1</td>\n",
       "      <td>i personally think that with a few tweaks the ...</td>\n",
       "      <td>i personally think that with a few tweaks the ...</td>\n",
       "    </tr>\n",
       "    <tr>\n",
       "      <th>2</th>\n",
       "      <td>March 25, 2002  7:06AM</td>\n",
       "      <td>fredvh</td>\n",
       "      <td>i am debating a new purchase and these two are...</td>\n",
       "      <td>i am debating a new purchase and these two are...</td>\n",
       "    </tr>\n",
       "    <tr>\n",
       "      <th>3</th>\n",
       "      <td>March 25, 2002  5:02PM</td>\n",
       "      <td>blueguydotcom</td>\n",
       "      <td>great handling, rwd, excellent engine and the ...</td>\n",
       "      <td>great handling, rwd, hyundailent engine and th...</td>\n",
       "    </tr>\n",
       "    <tr>\n",
       "      <th>4</th>\n",
       "      <td>March 25, 2002 11:04PM</td>\n",
       "      <td>hungrywhale</td>\n",
       "      <td>and no manual tranny.  that may not matter to ...</td>\n",
       "      <td>and no manual tranny.  that may not matter to ...</td>\n",
       "    </tr>\n",
       "  </tbody>\n",
       "</table>\n",
       "</div>"
      ],
      "text/plain": [
       "                     date         userid  \\\n",
       "0  March 23, 2002  7:04PM       cybersol   \n",
       "1  March 25, 2002  5:54AM          merc1   \n",
       "2  March 25, 2002  7:06AM         fredvh   \n",
       "3  March 25, 2002  5:02PM  blueguydotcom   \n",
       "4  March 25, 2002 11:04PM    hungrywhale   \n",
       "\n",
       "                                             message  \\\n",
       "0  entry level performance luxury sedans are a ho...   \n",
       "1  i personally think that with a few tweaks the ...   \n",
       "2  i am debating a new purchase and these two are...   \n",
       "3  great handling, rwd, excellent engine and the ...   \n",
       "4  and no manual tranny.  that may not matter to ...   \n",
       "\n",
       "                                       message_clean  \n",
       "0  entry level performance luxury sedans are a ho...  \n",
       "1  i personally think that with a few tweaks the ...  \n",
       "2  i am debating a new purchase and these two are...  \n",
       "3  great handling, rwd, hyundailent engine and th...  \n",
       "4  and no manual tranny.  that may not matter to ...  "
      ]
     },
     "execution_count": 6,
     "metadata": {},
     "output_type": "execute_result"
    }
   ],
   "source": [
    "#mapping that function to forum df\n",
    "forum_data['message_clean']=forum_data['message'].astype(str).map(replace_model)\n",
    "forum_data[:5]"
   ]
  },
  {
   "cell_type": "code",
   "execution_count": 7,
   "metadata": {},
   "outputs": [
    {
     "data": {
      "text/html": [
       "<div>\n",
       "<style>\n",
       "    .dataframe thead tr:only-child th {\n",
       "        text-align: right;\n",
       "    }\n",
       "\n",
       "    .dataframe thead th {\n",
       "        text-align: left;\n",
       "    }\n",
       "\n",
       "    .dataframe tbody tr th {\n",
       "        vertical-align: top;\n",
       "    }\n",
       "</style>\n",
       "<table border=\"1\" class=\"dataframe\">\n",
       "  <thead>\n",
       "    <tr style=\"text-align: right;\">\n",
       "      <th></th>\n",
       "      <th>date</th>\n",
       "      <th>userid</th>\n",
       "      <th>message</th>\n",
       "      <th>message_clean</th>\n",
       "      <th>message_without_stopwords</th>\n",
       "    </tr>\n",
       "  </thead>\n",
       "  <tbody>\n",
       "    <tr>\n",
       "      <th>0</th>\n",
       "      <td>March 23, 2002  7:04PM</td>\n",
       "      <td>cybersol</td>\n",
       "      <td>entry level performance luxury sedans are a ho...</td>\n",
       "      <td>entry level performance luxury sedans are a ho...</td>\n",
       "      <td>entry level performance luxury sedans hot area...</td>\n",
       "    </tr>\n",
       "    <tr>\n",
       "      <th>1</th>\n",
       "      <td>March 25, 2002  5:54AM</td>\n",
       "      <td>merc1</td>\n",
       "      <td>i personally think that with a few tweaks the ...</td>\n",
       "      <td>i personally think that with a few tweaks the ...</td>\n",
       "      <td>personally think tweaks c320 could also sit to...</td>\n",
       "    </tr>\n",
       "    <tr>\n",
       "      <th>2</th>\n",
       "      <td>March 25, 2002  7:06AM</td>\n",
       "      <td>fredvh</td>\n",
       "      <td>i am debating a new purchase and these two are...</td>\n",
       "      <td>i am debating a new purchase and these two are...</td>\n",
       "      <td>debating new purchase two top ltoyota. price d...</td>\n",
       "    </tr>\n",
       "    <tr>\n",
       "      <th>3</th>\n",
       "      <td>March 25, 2002  5:02PM</td>\n",
       "      <td>blueguydotcom</td>\n",
       "      <td>great handling, rwd, excellent engine and the ...</td>\n",
       "      <td>great handling, rwd, hyundailent engine and th...</td>\n",
       "      <td>great handling, rwd, hyundailent engine best w...</td>\n",
       "    </tr>\n",
       "    <tr>\n",
       "      <th>4</th>\n",
       "      <td>March 25, 2002 11:04PM</td>\n",
       "      <td>hungrywhale</td>\n",
       "      <td>and no manual tranny.  that may not matter to ...</td>\n",
       "      <td>and no manual tranny.  that may not matter to ...</td>\n",
       "      <td>manual tranny. may matter you, certainly matte...</td>\n",
       "    </tr>\n",
       "  </tbody>\n",
       "</table>\n",
       "</div>"
      ],
      "text/plain": [
       "                     date         userid  \\\n",
       "0  March 23, 2002  7:04PM       cybersol   \n",
       "1  March 25, 2002  5:54AM          merc1   \n",
       "2  March 25, 2002  7:06AM         fredvh   \n",
       "3  March 25, 2002  5:02PM  blueguydotcom   \n",
       "4  March 25, 2002 11:04PM    hungrywhale   \n",
       "\n",
       "                                             message  \\\n",
       "0  entry level performance luxury sedans are a ho...   \n",
       "1  i personally think that with a few tweaks the ...   \n",
       "2  i am debating a new purchase and these two are...   \n",
       "3  great handling, rwd, excellent engine and the ...   \n",
       "4  and no manual tranny.  that may not matter to ...   \n",
       "\n",
       "                                       message_clean  \\\n",
       "0  entry level performance luxury sedans are a ho...   \n",
       "1  i personally think that with a few tweaks the ...   \n",
       "2  i am debating a new purchase and these two are...   \n",
       "3  great handling, rwd, hyundailent engine and th...   \n",
       "4  and no manual tranny.  that may not matter to ...   \n",
       "\n",
       "                           message_without_stopwords  \n",
       "0  entry level performance luxury sedans hot area...  \n",
       "1  personally think tweaks c320 could also sit to...  \n",
       "2  debating new purchase two top ltoyota. price d...  \n",
       "3  great handling, rwd, hyundailent engine best w...  \n",
       "4  manual tranny. may matter you, certainly matte...  "
      ]
     },
     "execution_count": 7,
     "metadata": {},
     "output_type": "execute_result"
    }
   ],
   "source": [
    "#removing stopwords and adding to new column in df\n",
    "stop = stopwords.words('english')\n",
    "forum_data['message_without_stopwords'] = forum_data['message_clean'].apply(lambda x: ' '.join([word for word in x.split() if word not in (stop)]))\n",
    "forum_data[:5]"
   ]
  },
  {
   "cell_type": "code",
   "execution_count": 8,
   "metadata": {
    "collapsed": true,
    "scrolled": true
   },
   "outputs": [],
   "source": [
    "#count the number of messages that contain each brand name\n",
    "#careful- don't want to count same message twice if brand is stated twice\n",
    "\n",
    "counter={}\n",
    "for brand in model_list['Replace'].drop_duplicates():\n",
    "    if len(forum_data['message_without_stopwords'].str.contains(brand).value_counts().values)>1:\n",
    "        count=forum_data['message_without_stopwords'].str.contains(brand).value_counts()[True]\n",
    "    else:\n",
    "        count=0\n",
    "    counter[brand]=count"
   ]
  },
  {
   "cell_type": "code",
   "execution_count": 9,
   "metadata": {
    "scrolled": true
   },
   "outputs": [
    {
     "data": {
      "text/html": [
       "<div>\n",
       "<style>\n",
       "    .dataframe thead tr:only-child th {\n",
       "        text-align: right;\n",
       "    }\n",
       "\n",
       "    .dataframe thead th {\n",
       "        text-align: left;\n",
       "    }\n",
       "\n",
       "    .dataframe tbody tr th {\n",
       "        vertical-align: top;\n",
       "    }\n",
       "</style>\n",
       "<table border=\"1\" class=\"dataframe\">\n",
       "  <thead>\n",
       "    <tr style=\"text-align: right;\">\n",
       "      <th></th>\n",
       "      <th>Car Type</th>\n",
       "      <th>Count</th>\n",
       "    </tr>\n",
       "  </thead>\n",
       "  <tbody>\n",
       "    <tr>\n",
       "      <th>0</th>\n",
       "      <td>bmw</td>\n",
       "      <td>1866</td>\n",
       "    </tr>\n",
       "    <tr>\n",
       "      <th>1</th>\n",
       "      <td>toyota</td>\n",
       "      <td>1654</td>\n",
       "    </tr>\n",
       "    <tr>\n",
       "      <th>2</th>\n",
       "      <td>pontiac</td>\n",
       "      <td>1088</td>\n",
       "    </tr>\n",
       "    <tr>\n",
       "      <th>3</th>\n",
       "      <td>honda</td>\n",
       "      <td>683</td>\n",
       "    </tr>\n",
       "    <tr>\n",
       "      <th>4</th>\n",
       "      <td>acura</td>\n",
       "      <td>675</td>\n",
       "    </tr>\n",
       "    <tr>\n",
       "      <th>5</th>\n",
       "      <td>audi</td>\n",
       "      <td>594</td>\n",
       "    </tr>\n",
       "    <tr>\n",
       "      <th>6</th>\n",
       "      <td>nissan</td>\n",
       "      <td>562</td>\n",
       "    </tr>\n",
       "    <tr>\n",
       "      <th>7</th>\n",
       "      <td>infiniti</td>\n",
       "      <td>506</td>\n",
       "    </tr>\n",
       "    <tr>\n",
       "      <th>8</th>\n",
       "      <td>ford</td>\n",
       "      <td>296</td>\n",
       "    </tr>\n",
       "    <tr>\n",
       "      <th>9</th>\n",
       "      <td>subaru</td>\n",
       "      <td>277</td>\n",
       "    </tr>\n",
       "  </tbody>\n",
       "</table>\n",
       "</div>"
      ],
      "text/plain": [
       "   Car Type  Count\n",
       "0       bmw   1866\n",
       "1    toyota   1654\n",
       "2   pontiac   1088\n",
       "3     honda    683\n",
       "4     acura    675\n",
       "5      audi    594\n",
       "6    nissan    562\n",
       "7  infiniti    506\n",
       "8      ford    296\n",
       "9    subaru    277"
      ]
     },
     "execution_count": 9,
     "metadata": {},
     "output_type": "execute_result"
    }
   ],
   "source": [
    "counterlist=[]\n",
    "for key, value in counter.iteritems():\n",
    "    temp = [key,value]\n",
    "    counterlist.append(temp)\n",
    "counterlist\n",
    "\n",
    "sorted(counterlist, key=lambda x: x[1],reverse=True)\n",
    "allbrands=sorted(counterlist, key=lambda x: x[1],reverse=True)\n",
    "top10=allbrands[:10]\n",
    "top10df = pd.DataFrame(top10)\n",
    "top10df.columns = ['Car Type', 'Count']\n",
    "top10df"
   ]
  },
  {
   "cell_type": "code",
   "execution_count": 10,
   "metadata": {},
   "outputs": [
    {
     "name": "stdout",
     "output_type": "stream",
     "text": [
      "['bmw', 'toyota', 'pontiac', 'honda', 'acura', 'audi', 'nissan', 'infiniti', 'ford', 'subaru']\n"
     ]
    }
   ],
   "source": [
    "#dictionary of top 10 to values and list of top 10 brands\n",
    "num={}\n",
    "for i in top10:\n",
    "    num[i[0]]=i[1]\n",
    "\n",
    "listof10=[]\n",
    "for i in top10:\n",
    "    listof10.append(i[0])\n",
    "print listof10"
   ]
  },
  {
   "cell_type": "code",
   "execution_count": 11,
   "metadata": {
    "collapsed": true
   },
   "outputs": [],
   "source": [
    "def lift(a, b):\n",
    "    num = len(forum_data)\n",
    "    num_a = len(forum_data[forum_data['message_without_stopwords'].str.contains(a)])\n",
    "    num_b = len(forum_data[forum_data['message_without_stopwords'].str.contains(b)])\n",
    "    if_has_a = forum_data[forum_data['message_without_stopwords'].str.contains(a)]\n",
    "    num_a_and_b = len(if_has_a['message_without_stopwords'][if_has_a['message_without_stopwords'].str.contains(b)])\n",
    "    return num*float(num_a_and_b)/(num_a * num_b)"
   ]
  },
  {
   "cell_type": "code",
   "execution_count": 12,
   "metadata": {},
   "outputs": [
    {
     "data": {
      "text/html": [
       "<div>\n",
       "<style>\n",
       "    .dataframe thead tr:only-child th {\n",
       "        text-align: right;\n",
       "    }\n",
       "\n",
       "    .dataframe thead th {\n",
       "        text-align: left;\n",
       "    }\n",
       "\n",
       "    .dataframe tbody tr th {\n",
       "        vertical-align: top;\n",
       "    }\n",
       "</style>\n",
       "<table border=\"1\" class=\"dataframe\">\n",
       "  <thead>\n",
       "    <tr style=\"text-align: right;\">\n",
       "      <th></th>\n",
       "      <th>bmw</th>\n",
       "      <th>toyota</th>\n",
       "      <th>pontiac</th>\n",
       "      <th>honda</th>\n",
       "      <th>acura</th>\n",
       "      <th>audi</th>\n",
       "      <th>nissan</th>\n",
       "      <th>infiniti</th>\n",
       "      <th>ford</th>\n",
       "      <th>subaru</th>\n",
       "    </tr>\n",
       "  </thead>\n",
       "  <tbody>\n",
       "    <tr>\n",
       "      <th>bmw</th>\n",
       "      <td>NaN</td>\n",
       "      <td>1.28502</td>\n",
       "      <td>1.41893</td>\n",
       "      <td>1.26379</td>\n",
       "      <td>1.42085</td>\n",
       "      <td>1.64585</td>\n",
       "      <td>1.18907</td>\n",
       "      <td>1.8954</td>\n",
       "      <td>1.43192</td>\n",
       "      <td>1.1839</td>\n",
       "    </tr>\n",
       "    <tr>\n",
       "      <th>toyota</th>\n",
       "      <td>1.28502</td>\n",
       "      <td>NaN</td>\n",
       "      <td>1.27679</td>\n",
       "      <td>1.70173</td>\n",
       "      <td>1.39096</td>\n",
       "      <td>1.39848</td>\n",
       "      <td>1.50916</td>\n",
       "      <td>1.32439</td>\n",
       "      <td>1.50933</td>\n",
       "      <td>1.28525</td>\n",
       "    </tr>\n",
       "    <tr>\n",
       "      <th>pontiac</th>\n",
       "      <td>1.41893</td>\n",
       "      <td>1.27679</td>\n",
       "      <td>NaN</td>\n",
       "      <td>1.4683</td>\n",
       "      <td>1.65078</td>\n",
       "      <td>1.5275</td>\n",
       "      <td>1.70889</td>\n",
       "      <td>2.79984</td>\n",
       "      <td>1.05763</td>\n",
       "      <td>1.37919</td>\n",
       "    </tr>\n",
       "    <tr>\n",
       "      <th>honda</th>\n",
       "      <td>1.26379</td>\n",
       "      <td>1.70173</td>\n",
       "      <td>1.4683</td>\n",
       "      <td>NaN</td>\n",
       "      <td>2.41676</td>\n",
       "      <td>1.35182</td>\n",
       "      <td>2.42142</td>\n",
       "      <td>1.45328</td>\n",
       "      <td>2.05599</td>\n",
       "      <td>1.37314</td>\n",
       "    </tr>\n",
       "    <tr>\n",
       "      <th>acura</th>\n",
       "      <td>1.42085</td>\n",
       "      <td>1.39096</td>\n",
       "      <td>1.65078</td>\n",
       "      <td>2.41676</td>\n",
       "      <td>NaN</td>\n",
       "      <td>2.13095</td>\n",
       "      <td>1.87183</td>\n",
       "      <td>3.00862</td>\n",
       "      <td>1.64695</td>\n",
       "      <td>1.88342</td>\n",
       "    </tr>\n",
       "    <tr>\n",
       "      <th>audi</th>\n",
       "      <td>1.64585</td>\n",
       "      <td>1.39848</td>\n",
       "      <td>1.5275</td>\n",
       "      <td>1.35182</td>\n",
       "      <td>2.13095</td>\n",
       "      <td>NaN</td>\n",
       "      <td>1.48723</td>\n",
       "      <td>2.53535</td>\n",
       "      <td>1.80587</td>\n",
       "      <td>1.78939</td>\n",
       "    </tr>\n",
       "    <tr>\n",
       "      <th>nissan</th>\n",
       "      <td>1.18907</td>\n",
       "      <td>1.50916</td>\n",
       "      <td>1.70889</td>\n",
       "      <td>2.42142</td>\n",
       "      <td>1.87183</td>\n",
       "      <td>1.48723</td>\n",
       "      <td>NaN</td>\n",
       "      <td>2.19249</td>\n",
       "      <td>1.9781</td>\n",
       "      <td>1.52044</td>\n",
       "    </tr>\n",
       "    <tr>\n",
       "      <th>infiniti</th>\n",
       "      <td>1.8954</td>\n",
       "      <td>1.32439</td>\n",
       "      <td>2.79984</td>\n",
       "      <td>1.45328</td>\n",
       "      <td>3.00862</td>\n",
       "      <td>2.53535</td>\n",
       "      <td>2.19249</td>\n",
       "      <td>NaN</td>\n",
       "      <td>1.54177</td>\n",
       "      <td>1.81227</td>\n",
       "    </tr>\n",
       "    <tr>\n",
       "      <th>ford</th>\n",
       "      <td>1.43192</td>\n",
       "      <td>1.50933</td>\n",
       "      <td>1.05763</td>\n",
       "      <td>2.05599</td>\n",
       "      <td>1.64695</td>\n",
       "      <td>1.80587</td>\n",
       "      <td>1.9781</td>\n",
       "      <td>1.54177</td>\n",
       "      <td>NaN</td>\n",
       "      <td>1.83064</td>\n",
       "    </tr>\n",
       "    <tr>\n",
       "      <th>subaru</th>\n",
       "      <td>1.1839</td>\n",
       "      <td>1.28525</td>\n",
       "      <td>1.37919</td>\n",
       "      <td>1.37314</td>\n",
       "      <td>1.88342</td>\n",
       "      <td>1.78939</td>\n",
       "      <td>1.52044</td>\n",
       "      <td>1.81227</td>\n",
       "      <td>1.83064</td>\n",
       "      <td>NaN</td>\n",
       "    </tr>\n",
       "  </tbody>\n",
       "</table>\n",
       "</div>"
      ],
      "text/plain": [
       "              bmw   toyota  pontiac    honda    acura     audi   nissan  \\\n",
       "bmw           NaN  1.28502  1.41893  1.26379  1.42085  1.64585  1.18907   \n",
       "toyota    1.28502      NaN  1.27679  1.70173  1.39096  1.39848  1.50916   \n",
       "pontiac   1.41893  1.27679      NaN   1.4683  1.65078   1.5275  1.70889   \n",
       "honda     1.26379  1.70173   1.4683      NaN  2.41676  1.35182  2.42142   \n",
       "acura     1.42085  1.39096  1.65078  2.41676      NaN  2.13095  1.87183   \n",
       "audi      1.64585  1.39848   1.5275  1.35182  2.13095      NaN  1.48723   \n",
       "nissan    1.18907  1.50916  1.70889  2.42142  1.87183  1.48723      NaN   \n",
       "infiniti   1.8954  1.32439  2.79984  1.45328  3.00862  2.53535  2.19249   \n",
       "ford      1.43192  1.50933  1.05763  2.05599  1.64695  1.80587   1.9781   \n",
       "subaru     1.1839  1.28525  1.37919  1.37314  1.88342  1.78939  1.52044   \n",
       "\n",
       "         infiniti     ford   subaru  \n",
       "bmw        1.8954  1.43192   1.1839  \n",
       "toyota    1.32439  1.50933  1.28525  \n",
       "pontiac   2.79984  1.05763  1.37919  \n",
       "honda     1.45328  2.05599  1.37314  \n",
       "acura     3.00862  1.64695  1.88342  \n",
       "audi      2.53535  1.80587  1.78939  \n",
       "nissan    2.19249   1.9781  1.52044  \n",
       "infiniti      NaN  1.54177  1.81227  \n",
       "ford      1.54177      NaN  1.83064  \n",
       "subaru    1.81227  1.83064      NaN  "
      ]
     },
     "execution_count": 12,
     "metadata": {},
     "output_type": "execute_result"
    }
   ],
   "source": [
    "lift_df = pd.DataFrame(columns=listof10, index=listof10)\n",
    "\n",
    "for brand1, series in list(lift_df.iterrows()):\n",
    "    for brand2 in series.index:\n",
    "        if brand1 != brand2:\n",
    "            lift_df[brand2].loc[brand1] = lift(brand1, brand2)\n",
    "\n",
    "lift_df"
   ]
  },
  {
   "cell_type": "code",
   "execution_count": 13,
   "metadata": {
    "collapsed": true
   },
   "outputs": [],
   "source": [
    "inv_lift_df=1/lift_df\n",
    "inv_lift_df=inv_lift_df.fillna(0)"
   ]
  },
  {
   "cell_type": "code",
   "execution_count": 14,
   "metadata": {},
   "outputs": [
    {
     "data": {
      "image/png": "[encoded data removed]",
      "text/plain": [
       "<matplotlib.figure.Figure at 0x119f04410>"
      ]
     },
     "metadata": {},
     "output_type": "display_data"
    }
   ],
   "source": [
    "mds=manifold.MDS(n_components=2, random_state=1, dissimilarity='precomputed')\n",
    "fit=mds.fit(inv_lift_df).embedding_\n",
    "x_coef=fit[:,0]\n",
    "y_coef=fit[:,1]\n",
    "lst=list(inv_lift_df.index)\n",
    "\n",
    "fit=plt.figure(1)\n",
    "ax=plt.axes([0.,0.,1.,1.])\n",
    "\n",
    "plt.scatter(x_coef, y_coef, color='red',s=100, lw=1, label=lst)\n",
    "\n",
    "for i, lst in enumerate(lst):\n",
    "    ax.annotate(lst, (x_coef[i]+0.03,y_coef[i]))\n",
    "\n",
    "plt.show()"
   ]
  },
  {
   "cell_type": "markdown",
   "metadata": {},
   "source": [
    "#### Task B:\n",
    "What insights can you offer brand managers from your analysis in Task A    (choose two brands that you can offer the most interesting/useful insights for)? "
   ]
  },
  {
   "cell_type": "markdown",
   "metadata": {
    "collapsed": true
   },
   "source": [
    "\n",
    "**Insights from brand lift values and MDS plot:**\n",
    "\n",
    "Infiniti has positioned itself well as a brand that is used as a metric across many other brands. Though it was mentioned at less than one-third of the frequency as BMW, it has significantly higher lift values with a variety of brands. This strongly indicates that people commonly accept this brand as the metric by which they measure other brands. Though BMW and Toyota have exceptionally high raw mentions, when it comes to attracting new customers to switch from other brands, this data indicates they are not in a favorable position to attract customers in such a way.\n",
    "\n",
    "While Honda has lift values across a handful of brands, and more raw mentions than Infiniti, the comparisons are with less total brands. More importantly, the brands with which Honda is compared are less varied and are exclusively with brands considered to be the lower-tier brands of the luxury pool of brands. Though they are finding themselves mentioned regularly as a metric, they are clearly used as the low-tier metric, which Honda executives may want to attempt to alter."
   ]
  },
  {
   "cell_type": "markdown",
   "metadata": {},
   "source": [
    "#### Task C:\n",
    "What are 5   most frequently mentioned attributes of cars in the discussions? Note that the same attribute may be described by different words –   e.g., pick-up and acceleration may both referto a more general attribute, “performance”. You have to make suitable replacements. Now pick the 5 most frequently mentioned brands. Which attributes are most strongly associated with which of these 5   brands? You DON’T have to do a sentiment analysis for this assignment.\n",
    "While BMW has claimed that they are the “ultimate driving machine”, is    that how people feel on Edmunds? Show your analysis.   "
   ]
  },
  {
   "cell_type": "code",
   "execution_count": 15,
   "metadata": {
    "collapsed": true
   },
   "outputs": [],
   "source": [
    "top5brands = top10[:5]\n",
    "top5brands\n",
    "\n",
    "message_list=forum_data['message_without_stopwords'].values.tolist()\n",
    "message_list\n",
    "message_list[0] #the first job description (complete)\n",
    "wordsinlist=[]\n",
    "for i in range(0,len(message_list)):\n",
    "    words1=word_tokenize(message_list[i])\n",
    "    wordsinlist.append(words1)"
   ]
  },
  {
   "cell_type": "code",
   "execution_count": 16,
   "metadata": {
    "collapsed": true
   },
   "outputs": [],
   "source": [
    "words = [item for sublist in wordsinlist for item in sublist]"
   ]
  },
  {
   "cell_type": "code",
   "execution_count": 17,
   "metadata": {},
   "outputs": [
    {
     "name": "stdout",
     "output_type": "stream",
     "text": [
      "['entry', 'level', 'performance', 'luxury', 'sedans', 'hot', 'area', 'car', 'manufacturers', 'enthusiasts']\n"
     ]
    },
    {
     "data": {
      "text/plain": [
       "86"
      ]
     },
     "execution_count": 17,
     "metadata": {},
     "output_type": "execute_result"
    }
   ],
   "source": [
    "print words[:10]\n",
    "frq=FreqDist(words)\n",
    "#frq\n",
    "frq.most_common(50)\n",
    "count=0\n",
    "for w in words:\n",
    "    if w =='build':\n",
    "        count+=1\n",
    "count"
   ]
  },
  {
   "cell_type": "code",
   "execution_count": 18,
   "metadata": {
    "collapsed": true
   },
   "outputs": [],
   "source": [
    "attribute_dict = {'w8':'acceleration','weight':'acceleration','pick-up':'acceleration','rpm':'acceleration','speed':'acceleration','mph':'acceleration',\n",
    "                  'cost':'price','affordable':'price','expensive':'price','cheap':'price','value':'price','fuel':'price','efficiency':'price','mpg':'price','hybrid':'price',\n",
    "                  'suspension':'handling','turning':'handling','cornering':'handling','steering':'handling','awd':'handling','rwd':'handling',\n",
    "                  'torque':'power','hp':'power','horsepower':'power','engine':'power','automatic':'power','manual':'power','transmission':'power',\n",
    "                  'luxury':'interior','features':'interior','stereo':'interior','gps':'interior','cd':'interior','heated':'interior','boot':'interior','clubs':'interior','nav':'interior','leather':'interior',\n",
    "                  'spoiler':'exterior','carbon':'exterior','lift':'exterior','paint':'exterior','color':'exterior','finish':'exterior','aluminum':'exterior',\n",
    "                  'reliability':'quality','build':'quality','safety':'quality','crash':'quality'}"
   ]
  },
  {
   "cell_type": "code",
   "execution_count": 19,
   "metadata": {},
   "outputs": [
    {
     "data": {
      "text/plain": [
       "1115"
      ]
     },
     "execution_count": 19,
     "metadata": {},
     "output_type": "execute_result"
    }
   ],
   "source": [
    "#replaces words that fall into attribute category with that attribute\n",
    "def replace_attribute(s):\n",
    "    attr=[]\n",
    "    for word in s:\n",
    "        if word in attribute_dict:\n",
    "            attr.append(attribute_dict[word])\n",
    "        else:\n",
    "            attr.append(word)    \n",
    "    return attr\n",
    "\n",
    "counter = 0\n",
    "new_words = replace_attribute(words)\n",
    "#print new_words\n",
    "for w in new_words:\n",
    "    if w =='acceleration':\n",
    "        counter+=1\n",
    "counter"
   ]
  },
  {
   "cell_type": "code",
   "execution_count": 20,
   "metadata": {},
   "outputs": [
    {
     "data": {
      "text/plain": [
       "[['power', 3401],\n",
       " ['handling', 2389],\n",
       " ['interior', 2087],\n",
       " ['price', 1915],\n",
       " ['acceleration', 1115]]"
      ]
     },
     "execution_count": 20,
     "metadata": {},
     "output_type": "execute_result"
    }
   ],
   "source": [
    "attribute_list = ['acceleration', 'handling','power', 'price','interior','exterior','quality']\n",
    "##need help on brainstorming other attributes, i don't know cars\n",
    "handlecount = 0\n",
    "powcount=0\n",
    "pricecount=0\n",
    "accelcount=0\n",
    "makecount = 0 \n",
    "intcount=0\n",
    "extcount=0\n",
    "qualitycount=0\n",
    "for w in new_words:\n",
    "    if w =='acceleration':\n",
    "        accelcount+=1\n",
    "    if w=='handling':\n",
    "        handlecount+=1\n",
    "    if w=='power':\n",
    "        powcount+=1\n",
    "    if w=='price':\n",
    "        pricecount+=1\n",
    "    if w=='interior':\n",
    "        intcount+=1\n",
    "    if w=='exterior':\n",
    "        extcount+=1\n",
    "    if w=='quality':\n",
    "        qualitycount+=1\n",
    "attr_freq_list = [['acceleration',accelcount],['handling',handlecount],['price',pricecount],['power',powcount],['interior',intcount],['exterior',extcount],['quality',qualitycount]]\n",
    "attr_freq_list.sort(key=lambda x: x[1], reverse=True)\n",
    "\n",
    "attr_freq_list[:5]"
   ]
  },
  {
   "cell_type": "code",
   "execution_count": 21,
   "metadata": {},
   "outputs": [
    {
     "data": {
      "text/html": [
       "<div>\n",
       "<style>\n",
       "    .dataframe thead tr:only-child th {\n",
       "        text-align: right;\n",
       "    }\n",
       "\n",
       "    .dataframe thead th {\n",
       "        text-align: left;\n",
       "    }\n",
       "\n",
       "    .dataframe tbody tr th {\n",
       "        vertical-align: top;\n",
       "    }\n",
       "</style>\n",
       "<table border=\"1\" class=\"dataframe\">\n",
       "  <thead>\n",
       "    <tr style=\"text-align: right;\">\n",
       "      <th></th>\n",
       "      <th>bmw</th>\n",
       "      <th>toyota</th>\n",
       "      <th>pontiac</th>\n",
       "      <th>honda</th>\n",
       "      <th>acura</th>\n",
       "    </tr>\n",
       "  </thead>\n",
       "  <tbody>\n",
       "    <tr>\n",
       "      <th>power</th>\n",
       "      <td>1.49637</td>\n",
       "      <td>1.53075</td>\n",
       "      <td>1.59265</td>\n",
       "      <td>1.8009</td>\n",
       "      <td>1.75574</td>\n",
       "    </tr>\n",
       "    <tr>\n",
       "      <th>handling</th>\n",
       "      <td>1.55007</td>\n",
       "      <td>1.52657</td>\n",
       "      <td>1.67789</td>\n",
       "      <td>1.45791</td>\n",
       "      <td>1.61568</td>\n",
       "    </tr>\n",
       "    <tr>\n",
       "      <th>interior</th>\n",
       "      <td>1.35052</td>\n",
       "      <td>1.36037</td>\n",
       "      <td>1.92626</td>\n",
       "      <td>1.31775</td>\n",
       "      <td>1.65718</td>\n",
       "    </tr>\n",
       "    <tr>\n",
       "      <th>price</th>\n",
       "      <td>1.54689</td>\n",
       "      <td>1.44077</td>\n",
       "      <td>1.71213</td>\n",
       "      <td>1.5234</td>\n",
       "      <td>1.49173</td>\n",
       "    </tr>\n",
       "    <tr>\n",
       "      <th>acceleration</th>\n",
       "      <td>1.46756</td>\n",
       "      <td>1.83466</td>\n",
       "      <td>1.76869</td>\n",
       "      <td>1.78801</td>\n",
       "      <td>1.53508</td>\n",
       "    </tr>\n",
       "  </tbody>\n",
       "</table>\n",
       "</div>"
      ],
      "text/plain": [
       "                  bmw   toyota  pontiac    honda    acura\n",
       "power         1.49637  1.53075  1.59265   1.8009  1.75574\n",
       "handling      1.55007  1.52657  1.67789  1.45791  1.61568\n",
       "interior      1.35052  1.36037  1.92626  1.31775  1.65718\n",
       "price         1.54689  1.44077  1.71213   1.5234  1.49173\n",
       "acceleration  1.46756  1.83466  1.76869  1.78801  1.53508"
      ]
     },
     "execution_count": 21,
     "metadata": {},
     "output_type": "execute_result"
    }
   ],
   "source": [
    "temp_list = ['power','handling','interior','price','acceleration']\n",
    "\n",
    "listof5 = listof10[:5]\n",
    "\n",
    "attribute_df = pd.DataFrame(columns=listof5, index=temp_list)\n",
    "\n",
    "for attribute, series in list(attribute_df.iterrows()):\n",
    "    for brand in series.index:\n",
    "        attribute_df[brand].loc[attribute] = lift(brand, attribute)\n",
    "\n",
    "attribute_df"
   ]
  },
  {
   "cell_type": "markdown",
   "metadata": {},
   "source": [
    "#### Task D:\n",
    "What advice will you give to a (i) product manager, and (ii) marketing/advertising manager of these brands based on your analysis in Task C? For this assignment, you can assume the sentiment (e.g., that it   is    positive). "
   ]
  },
  {
   "cell_type": "code",
   "execution_count": null,
   "metadata": {
    "collapsed": true
   },
   "outputs": [],
   "source": []
  },
  {
   "cell_type": "markdown",
   "metadata": {},
   "source": [
    "#### Task E:\n",
    "Which is the most aspirational brand in your data in terms of people actually wanting to buy or own? Describe your analysis. What are the business implications for this brand? Provide the following details in your write-up (I    am not setting a   strict page limit, but 3-4 pages, single-spaced, 11 font size should be enough with screenshots)\n",
    "\n",
    "1.Which forum you chose (provide URL) \n",
    "\n",
    "2.Which 10 brands you chose –   provide the frequency table\n",
    "\n",
    "3.Show all lift calculations in a   table.\n",
    "\n",
    "4.Show the MDS map (put screenshots in your report)\n",
    "\n",
    "5.State the 5   attributes you chose (again, a   table is    good here). \n",
    "\n",
    "6.For task E, provide all details of your analysis –   e.g., how you measured “aspirational” and howyou found the most aspirational brand.\n",
    "\n",
    "7.Advice/insights based on your analysis for brand, product and advertising managers. Your submission should include all scripts as well as your answers to the questions above (generally speaking, I  won’t run these scripts, but if   the numbers don’t look right, I may run some of them). Also include the final data file after all replacements of models and attributes have been done."
   ]
  },
  {
   "cell_type": "code",
   "execution_count": 22,
   "metadata": {
    "collapsed": true
   },
   "outputs": [],
   "source": [
    "att_df=pd.DataFrame(columns=['Replace','Search'])\n",
    "att_df['Replace']=attribute_dict.values()\n",
    "att_df['Search']=attribute_dict.keys()"
   ]
  },
  {
   "cell_type": "code",
   "execution_count": 23,
   "metadata": {
    "collapsed": true
   },
   "outputs": [],
   "source": [
    "def replace_att(s):\n",
    "    for word in att_df['Search'].values:\n",
    "        if word in s:\n",
    "            s=s.replace(word,att_df[att_df['Search']==word]['Replace'].values[0])\n",
    "    return s"
   ]
  },
  {
   "cell_type": "code",
   "execution_count": 24,
   "metadata": {
    "collapsed": true
   },
   "outputs": [],
   "source": [
    "# map function to forum_df to turn words into attributes\n",
    "forum_data['message_clean']=forum_data['message'].astype(str).map(replace_att)"
   ]
  },
  {
   "cell_type": "code",
   "execution_count": 25,
   "metadata": {
    "collapsed": true
   },
   "outputs": [],
   "source": [
    "# mapping that function to forum df to turn models into brands\n",
    "forum_data['message_clean']=forum_data['message_clean'].astype(str).map(replace_model)"
   ]
  },
  {
   "cell_type": "code",
   "execution_count": 26,
   "metadata": {
    "collapsed": true
   },
   "outputs": [],
   "source": [
    "# removing stopwords and adding to new column in df\n",
    "stop = stopwords.words('english')\n",
    "forum_data['message_without_stopwords'] = forum_data['message_clean'].apply(lambda x: ' '.join([word for word in x.split() if word not in (stop)]))"
   ]
  },
  {
   "cell_type": "code",
   "execution_count": 27,
   "metadata": {
    "collapsed": true
   },
   "outputs": [],
   "source": [
    "# # Run only to export as CSV\n",
    "# export as csv\n",
    "# forum_data_export=forum_data[['date','userid','message_without_stopwords']]\n",
    "# forum_data_export.to_csv('final_output.csv',sep=',')"
   ]
  }
 ],
 "metadata": {
  "kernelspec": {
   "display_name": "Python 2",
   "language": "python",
   "name": "python2"
  },
  "language_info": {
   "codemirror_mode": {
    "name": "ipython",
    "version": 2
   },
   "file_extension": ".py",
   "mimetype": "text/x-python",
   "name": "python",
   "nbconvert_exporter": "python",
   "pygments_lexer": "ipython2",
   "version": "2.7.13"
  }
 },
 "nbformat": 4,
 "nbformat_minor": 2
}
