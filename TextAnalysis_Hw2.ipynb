{
 "cells": [
  {
   "cell_type": "markdown",
   "metadata": {},
   "source": [
    "# Text Analytics Group Assignment2\n",
    "Due: September 25, 2017, by 11:59 p.m. In this assignment you are an analytics consultant to a   (i) brand manager, (ii) product manager and (iii)advertising manager. Your job is    to give advice/insights to these individuals based on the analysis of social media conversations. The detailed tasks are described below. We use cars as an example of a “high involvement” good (recall from class discussions that for high involvement goods, people use social media heavily for awareness building and research).\n",
    "\n",
    "1.Develop a   crawler/scraper to fetch messages posted in Edmunds.com discussion forums. The crawler output should be a .csv file with the following columns: date, userid, and message (even though you will only use the messages in your analysis). Before you develop the crawler, carefully study one of the forums on Edmunds.com to understand the html as well as the threading structures.\n",
    "\n",
    "2.Fetch between 5,000 and 10,000 posts about cars from a General topics forum. Do NOT choosea forum dedicated to a   particular brand or model. Instead, you can choose the General & Sedans categories and then select, for example, the Entry Level Luxury forum https://forums.edmunds.com/discussion/2864/general/x/entry-level-luxury-performance-sedansThe idea is    to have multiple brands and models being discussed without one of them being the focal point.\n",
    "\n",
    "3.Once you fetch the data, find the top 10 brands from frequency counts. You will need to write a script to count the frequencies. Be sure not to count a mention more than once per post, evenif   it    is mentioned multiple times.Replace modelswith brands so that from now on you have to deal with only brands and not models. You will need another script for this job. This step is meant to help simplify the analysis. A    list of model and brand names (not exhaustive) are provided in a separate file."
   ]
  },
  {
   "cell_type": "markdown",
   "metadata": {},
   "source": [
    "#### Task A:\n",
    "Identify top 10 brands by frequency. From the posts, calculate lift ratios for associations between the brands. You will have to write a   script to do this task). Show the brands on a   multi-dimensional scaling (MDS) map (use a Python script for MDS, there are multiple scripts available onthe Internet). "
   ]
  },
  {
   "cell_type": "code",
   "execution_count": 50,
   "metadata": {
    "collapsed": true
   },
   "outputs": [],
   "source": [
    "import pandas as pd\n",
    "from nltk.corpus import stopwords"
   ]
  },
  {
   "cell_type": "code",
   "execution_count": 51,
   "metadata": {
    "scrolled": true
   },
   "outputs": [
    {
     "data": {
      "text/html": [
       "<div>\n",
       "<style>\n",
       "    .dataframe thead tr:only-child th {\n",
       "        text-align: right;\n",
       "    }\n",
       "\n",
       "    .dataframe thead th {\n",
       "        text-align: left;\n",
       "    }\n",
       "\n",
       "    .dataframe tbody tr th {\n",
       "        vertical-align: top;\n",
       "    }\n",
       "</style>\n",
       "<table border=\"1\" class=\"dataframe\">\n",
       "  <thead>\n",
       "    <tr style=\"text-align: right;\">\n",
       "      <th></th>\n",
       "      <th>Unnamed: 0</th>\n",
       "      <th>date</th>\n",
       "      <th>message</th>\n",
       "      <th>userid</th>\n",
       "    </tr>\n",
       "  </thead>\n",
       "  <tbody>\n",
       "    <tr>\n",
       "      <th>0</th>\n",
       "      <td>0.0</td>\n",
       "      <td>March 23, 2002  7:04PM</td>\n",
       "      <td>entry level performance luxury sedans are a ho...</td>\n",
       "      <td>cybersol</td>\n",
       "    </tr>\n",
       "    <tr>\n",
       "      <th>1</th>\n",
       "      <td>1.0</td>\n",
       "      <td>March 25, 2002  5:54AM</td>\n",
       "      <td>i personally think that with a few tweaks the ...</td>\n",
       "      <td>merc1</td>\n",
       "    </tr>\n",
       "    <tr>\n",
       "      <th>2</th>\n",
       "      <td>2.0</td>\n",
       "      <td>March 25, 2002  7:06AM</td>\n",
       "      <td>i am debating a new purchase and these two are...</td>\n",
       "      <td>fredvh</td>\n",
       "    </tr>\n",
       "  </tbody>\n",
       "</table>\n",
       "</div>"
      ],
      "text/plain": [
       "   Unnamed: 0                    date  \\\n",
       "0         0.0  March 23, 2002  7:04PM   \n",
       "1         1.0  March 25, 2002  5:54AM   \n",
       "2         2.0  March 25, 2002  7:06AM   \n",
       "\n",
       "                                             message    userid  \n",
       "0  entry level performance luxury sedans are a ho...  cybersol  \n",
       "1  i personally think that with a few tweaks the ...     merc1  \n",
       "2  i am debating a new purchase and these two are...    fredvh  "
      ]
     },
     "execution_count": 51,
     "metadata": {},
     "output_type": "execute_result"
    }
   ],
   "source": [
    "#car forum data\n",
    "forum_data =pd.read_csv('reed_new_out.csv', header = 0)\n",
    "\n",
    "df2=pd.DataFrame([['April 12, 2002 2:53PM','dani','bmw toyota pontiac honda acura audi nissan infiniti ford subaru']], columns=['date','userid','message'])\n",
    "forum_data=forum_data.append(df2)\n",
    "forum_data['message']=forum_data['message'].str.lower()\n",
    "forum_data[:3]"
   ]
  },
  {
   "cell_type": "code",
   "execution_count": 52,
   "metadata": {
    "scrolled": true
   },
   "outputs": [],
   "source": [
    "#list of car brands/names\n",
    "model_list =pd.read_csv('Cars make model list3.csv', header = 2)\n",
    "model_list['Search']=model_list['Search'].str.lower()"
   ]
  },
  {
   "cell_type": "code",
   "execution_count": 53,
   "metadata": {
    "scrolled": true
   },
   "outputs": [],
   "source": [
    "##some of the Search values from the model_list df have a weird format after that we need to remove\n",
    "#'legend\\xca'.replace('\\xca','')\n",
    "model_list['Search'].replace('\\xca','').values\n",
    "ls=model_list['Search'].tolist()\n",
    "\n",
    "for i in range(len(ls)):\n",
    "    ls[i]=ls[i].replace('\\xca','')\n",
    "\n",
    "ls                              #the correct names now! add this back to model_list df\n",
    "model_list['Search1']=ls        #setting new column equal to correct values"
   ]
  },
  {
   "cell_type": "code",
   "execution_count": 54,
   "metadata": {},
   "outputs": [],
   "source": [
    "def replace_model(s):\n",
    "    for model in model_list['Search1'].values:\n",
    "        if model in s:\n",
    "            s=s.replace(model,model_list[model_list['Search1']==model]['Replace'].values[0])\n",
    "    return s"
   ]
  },
  {
   "cell_type": "code",
   "execution_count": 80,
   "metadata": {
    "scrolled": true
   },
   "outputs": [],
   "source": [
    "#mapping that function to forum df\n",
    "forum_data['message_clean']=forum_data['message'].astype(str).map(replace_model)"
   ]
  },
  {
   "cell_type": "code",
   "execution_count": 56,
   "metadata": {
    "collapsed": true
   },
   "outputs": [],
   "source": [
    "#removing stopwords and adding to new column in df\n",
    "stop = stopwords.words('english')\n",
    "forum_data['message_without_stopwords'] = forum_data['message_clean'].apply(lambda x: ' '.join([word for word in x.split() if word not in (stop)]))"
   ]
  },
  {
   "cell_type": "code",
   "execution_count": 81,
   "metadata": {
    "scrolled": true
   },
   "outputs": [],
   "source": [
    "#count the number of messages that contain each brand name\n",
    "#careful- don't want to count same message twice if brand is stated twice\n",
    "\n",
    "counter={}\n",
    "for brand in model_list['Replace'].drop_duplicates():\n",
    "    if len(forum_data['message_without_stopwords'].str.contains(brand).value_counts().values)>1:\n",
    "        count=forum_data['message_without_stopwords'].str.contains(brand).value_counts()[True]\n",
    "    else:\n",
    "        count=0\n",
    "    counter[brand]=count"
   ]
  },
  {
   "cell_type": "code",
   "execution_count": 58,
   "metadata": {
    "scrolled": true
   },
   "outputs": [
    {
     "data": {
      "text/plain": [
       "[['bmw', 1866],\n",
       " ['toyota', 1654],\n",
       " ['pontiac', 1088],\n",
       " ['honda', 683],\n",
       " ['acura', 675],\n",
       " ['audi', 594],\n",
       " ['nissan', 562],\n",
       " ['infiniti', 506],\n",
       " ['ford', 296],\n",
       " ['subaru', 277]]"
      ]
     },
     "execution_count": 58,
     "metadata": {},
     "output_type": "execute_result"
    }
   ],
   "source": [
    "counterlist=[] #list of [brand, #messages brand appears in]\n",
    "for key, value in counter.iteritems():\n",
    "    temp = [key,value]\n",
    "    counterlist.append(temp)\n",
    "\n",
    "top10=sorted(counterlist, key=lambda x: x[1],reverse=True)[:10]\n",
    "top10 #list of top 10 [brand, #messages] "
   ]
  },
  {
   "cell_type": "code",
   "execution_count": 103,
   "metadata": {},
   "outputs": [
    {
     "data": {
      "text/html": [
       "<div>\n",
       "<style>\n",
       "    .dataframe thead tr:only-child th {\n",
       "        text-align: right;\n",
       "    }\n",
       "\n",
       "    .dataframe thead th {\n",
       "        text-align: left;\n",
       "    }\n",
       "\n",
       "    .dataframe tbody tr th {\n",
       "        vertical-align: top;\n",
       "    }\n",
       "</style>\n",
       "<table border=\"1\" class=\"dataframe\">\n",
       "  <thead>\n",
       "    <tr style=\"text-align: right;\">\n",
       "      <th></th>\n",
       "      <th>Number of Messages</th>\n",
       "    </tr>\n",
       "  </thead>\n",
       "  <tbody>\n",
       "    <tr>\n",
       "      <th>bmw</th>\n",
       "      <td>1866</td>\n",
       "    </tr>\n",
       "    <tr>\n",
       "      <th>toyota</th>\n",
       "      <td>1654</td>\n",
       "    </tr>\n",
       "    <tr>\n",
       "      <th>pontiac</th>\n",
       "      <td>1088</td>\n",
       "    </tr>\n",
       "    <tr>\n",
       "      <th>honda</th>\n",
       "      <td>683</td>\n",
       "    </tr>\n",
       "    <tr>\n",
       "      <th>acura</th>\n",
       "      <td>675</td>\n",
       "    </tr>\n",
       "    <tr>\n",
       "      <th>audi</th>\n",
       "      <td>594</td>\n",
       "    </tr>\n",
       "    <tr>\n",
       "      <th>nissan</th>\n",
       "      <td>562</td>\n",
       "    </tr>\n",
       "    <tr>\n",
       "      <th>infiniti</th>\n",
       "      <td>506</td>\n",
       "    </tr>\n",
       "    <tr>\n",
       "      <th>ford</th>\n",
       "      <td>296</td>\n",
       "    </tr>\n",
       "    <tr>\n",
       "      <th>subaru</th>\n",
       "      <td>277</td>\n",
       "    </tr>\n",
       "  </tbody>\n",
       "</table>\n",
       "</div>"
      ],
      "text/plain": [
       "          Number of Messages\n",
       "bmw                     1866\n",
       "toyota                  1654\n",
       "pontiac                 1088\n",
       "honda                    683\n",
       "acura                    675\n",
       "audi                     594\n",
       "nissan                   562\n",
       "infiniti                 506\n",
       "ford                     296\n",
       "subaru                   277"
      ]
     },
     "execution_count": 103,
     "metadata": {},
     "output_type": "execute_result"
    }
   ],
   "source": [
    "#dictionary of top 10 to values and list of top 10 brands\n",
    "num={}  #dictionary of top 10 {'brand':#messages}\n",
    "for i in top10:\n",
    "    num[i[0]]=i[1]\n",
    "num\n",
    "\n",
    "listof10=[]   \n",
    "for i in top10:\n",
    "    listof10.append(i[0])\n",
    "listof10   #list of only brand names\n",
    "#pd.DataFrame.from_dict(num, orient='columns', dtype=None)\n",
    "\n",
    "freq_table=pd.DataFrame(columns=['Number of Messages'], index=num.keys())\n",
    "freq_table['Number of Messages']=num.values()\n",
    "freq_table.sort_values('Number of Messages', ascending=False)"
   ]
  },
  {
   "cell_type": "code",
   "execution_count": 99,
   "metadata": {},
   "outputs": [
    {
     "data": {
      "text/plain": [
       "{'acura': 675,\n",
       " 'audi': 594,\n",
       " 'bmw': 1866,\n",
       " 'ford': 296,\n",
       " 'honda': 683,\n",
       " 'infiniti': 506,\n",
       " 'nissan': 562,\n",
       " 'pontiac': 1088,\n",
       " 'subaru': 277,\n",
       " 'toyota': 1654}"
      ]
     },
     "execution_count": 99,
     "metadata": {},
     "output_type": "execute_result"
    }
   ],
   "source": [
    "num\n",
    "#getting combinations of top 10 brand names, naming the list of (brand1, brand2) as comb\n",
    "# import itertools\n",
    "# print list(itertools.combinations(listof10,2))\n",
    "# comb=list(itertools.combinations(listof10,2))"
   ]
  },
  {
   "cell_type": "code",
   "execution_count": 79,
   "metadata": {
    "scrolled": true
   },
   "outputs": [],
   "source": [
    "#counting how many messages contain each combination of brands\n",
    "#counter_comb={(brand1, brand2):num of messages}\n",
    "\n",
    "# counter_comb={}\n",
    "# for brand in comb:\n",
    "#     mask_b0=(forum_data['message_without_stopwords'].str.contains(brand[0]))\n",
    "#     mask_b1=(forum_data['message_without_stopwords'].str.contains(brand[1]))\n",
    "#     mask=(mask_b0 & mask_b1)\n",
    "#     count=len(forum_data['message_without_stopwords'][mask])\n",
    "#     counter_comb[brand]=count\n",
    "# counter_comb"
   ]
  },
  {
   "cell_type": "code",
   "execution_count": 82,
   "metadata": {
    "scrolled": true
   },
   "outputs": [],
   "source": [
    "#calculate lift for associations between the top 10 brands\n",
    "#lift=number of messages*num messages with a and b / (num messages with a) * (num messages with b)\n",
    "\n",
    "def lift(a, b):\n",
    "    num = len(forum_data)\n",
    "    num_a = float(counter[a])\n",
    "    num_b = float(counter[b])\n",
    "    if_has_a = forum_data[forum_data['message_without_stopwords'].str.contains(a)]\n",
    "    num_a_and_b = len(if_has_a['message_without_stopwords'][if_has_a['message_without_stopwords'].str.contains(b)])\n",
    "    return num*float(num_a_and_b)/float(num_a * num_b)\n",
    "# lift_ratios={} \n",
    "# for brands in comb:\n",
    "#     #print brands\n",
    "#     lift_val=lift(brands[0],brands[1])\n",
    "#     lift_ratios[brands]=lift_val\n",
    "# lift_ratios  #dictionary of {(brand1, brand2):lift value}"
   ]
  },
  {
   "cell_type": "code",
   "execution_count": 78,
   "metadata": {},
   "outputs": [
    {
     "data": {
      "text/html": [
       "<div>\n",
       "<style>\n",
       "    .dataframe thead tr:only-child th {\n",
       "        text-align: right;\n",
       "    }\n",
       "\n",
       "    .dataframe thead th {\n",
       "        text-align: left;\n",
       "    }\n",
       "\n",
       "    .dataframe tbody tr th {\n",
       "        vertical-align: top;\n",
       "    }\n",
       "</style>\n",
       "<table border=\"1\" class=\"dataframe\">\n",
       "  <thead>\n",
       "    <tr style=\"text-align: right;\">\n",
       "      <th></th>\n",
       "      <th>bmw</th>\n",
       "      <th>toyota</th>\n",
       "      <th>pontiac</th>\n",
       "      <th>honda</th>\n",
       "      <th>acura</th>\n",
       "      <th>audi</th>\n",
       "      <th>nissan</th>\n",
       "      <th>infiniti</th>\n",
       "      <th>ford</th>\n",
       "      <th>subaru</th>\n",
       "    </tr>\n",
       "  </thead>\n",
       "  <tbody>\n",
       "    <tr>\n",
       "      <th>bmw</th>\n",
       "      <td>NaN</td>\n",
       "      <td>1.28502</td>\n",
       "      <td>1.41893</td>\n",
       "      <td>1.26379</td>\n",
       "      <td>1.42085</td>\n",
       "      <td>1.64585</td>\n",
       "      <td>1.18907</td>\n",
       "      <td>1.8954</td>\n",
       "      <td>1.43192</td>\n",
       "      <td>1.1839</td>\n",
       "    </tr>\n",
       "    <tr>\n",
       "      <th>toyota</th>\n",
       "      <td>1.28502</td>\n",
       "      <td>NaN</td>\n",
       "      <td>1.27679</td>\n",
       "      <td>1.70173</td>\n",
       "      <td>1.39096</td>\n",
       "      <td>1.39848</td>\n",
       "      <td>1.50916</td>\n",
       "      <td>1.32439</td>\n",
       "      <td>1.50933</td>\n",
       "      <td>1.28525</td>\n",
       "    </tr>\n",
       "    <tr>\n",
       "      <th>pontiac</th>\n",
       "      <td>1.41893</td>\n",
       "      <td>1.27679</td>\n",
       "      <td>NaN</td>\n",
       "      <td>1.4683</td>\n",
       "      <td>1.65078</td>\n",
       "      <td>1.5275</td>\n",
       "      <td>1.70889</td>\n",
       "      <td>2.79984</td>\n",
       "      <td>1.05763</td>\n",
       "      <td>1.37919</td>\n",
       "    </tr>\n",
       "    <tr>\n",
       "      <th>honda</th>\n",
       "      <td>1.26379</td>\n",
       "      <td>1.70173</td>\n",
       "      <td>1.4683</td>\n",
       "      <td>NaN</td>\n",
       "      <td>2.41676</td>\n",
       "      <td>1.35182</td>\n",
       "      <td>2.42142</td>\n",
       "      <td>1.45328</td>\n",
       "      <td>2.05599</td>\n",
       "      <td>1.37314</td>\n",
       "    </tr>\n",
       "    <tr>\n",
       "      <th>acura</th>\n",
       "      <td>1.42085</td>\n",
       "      <td>1.39096</td>\n",
       "      <td>1.65078</td>\n",
       "      <td>2.41676</td>\n",
       "      <td>NaN</td>\n",
       "      <td>2.13095</td>\n",
       "      <td>1.87183</td>\n",
       "      <td>3.00862</td>\n",
       "      <td>1.64695</td>\n",
       "      <td>1.88342</td>\n",
       "    </tr>\n",
       "    <tr>\n",
       "      <th>audi</th>\n",
       "      <td>1.64585</td>\n",
       "      <td>1.39848</td>\n",
       "      <td>1.5275</td>\n",
       "      <td>1.35182</td>\n",
       "      <td>2.13095</td>\n",
       "      <td>NaN</td>\n",
       "      <td>1.48723</td>\n",
       "      <td>2.53535</td>\n",
       "      <td>1.80587</td>\n",
       "      <td>1.78939</td>\n",
       "    </tr>\n",
       "    <tr>\n",
       "      <th>nissan</th>\n",
       "      <td>1.18907</td>\n",
       "      <td>1.50916</td>\n",
       "      <td>1.70889</td>\n",
       "      <td>2.42142</td>\n",
       "      <td>1.87183</td>\n",
       "      <td>1.48723</td>\n",
       "      <td>NaN</td>\n",
       "      <td>2.19249</td>\n",
       "      <td>1.9781</td>\n",
       "      <td>1.52044</td>\n",
       "    </tr>\n",
       "    <tr>\n",
       "      <th>infiniti</th>\n",
       "      <td>1.8954</td>\n",
       "      <td>1.32439</td>\n",
       "      <td>2.79984</td>\n",
       "      <td>1.45328</td>\n",
       "      <td>3.00862</td>\n",
       "      <td>2.53535</td>\n",
       "      <td>2.19249</td>\n",
       "      <td>NaN</td>\n",
       "      <td>1.54177</td>\n",
       "      <td>1.81227</td>\n",
       "    </tr>\n",
       "    <tr>\n",
       "      <th>ford</th>\n",
       "      <td>1.43192</td>\n",
       "      <td>1.50933</td>\n",
       "      <td>1.05763</td>\n",
       "      <td>2.05599</td>\n",
       "      <td>1.64695</td>\n",
       "      <td>1.80587</td>\n",
       "      <td>1.9781</td>\n",
       "      <td>1.54177</td>\n",
       "      <td>NaN</td>\n",
       "      <td>1.83064</td>\n",
       "    </tr>\n",
       "    <tr>\n",
       "      <th>subaru</th>\n",
       "      <td>1.1839</td>\n",
       "      <td>1.28525</td>\n",
       "      <td>1.37919</td>\n",
       "      <td>1.37314</td>\n",
       "      <td>1.88342</td>\n",
       "      <td>1.78939</td>\n",
       "      <td>1.52044</td>\n",
       "      <td>1.81227</td>\n",
       "      <td>1.83064</td>\n",
       "      <td>NaN</td>\n",
       "    </tr>\n",
       "  </tbody>\n",
       "</table>\n",
       "</div>"
      ],
      "text/plain": [
       "              bmw   toyota  pontiac    honda    acura     audi   nissan  \\\n",
       "bmw           NaN  1.28502  1.41893  1.26379  1.42085  1.64585  1.18907   \n",
       "toyota    1.28502      NaN  1.27679  1.70173  1.39096  1.39848  1.50916   \n",
       "pontiac   1.41893  1.27679      NaN   1.4683  1.65078   1.5275  1.70889   \n",
       "honda     1.26379  1.70173   1.4683      NaN  2.41676  1.35182  2.42142   \n",
       "acura     1.42085  1.39096  1.65078  2.41676      NaN  2.13095  1.87183   \n",
       "audi      1.64585  1.39848   1.5275  1.35182  2.13095      NaN  1.48723   \n",
       "nissan    1.18907  1.50916  1.70889  2.42142  1.87183  1.48723      NaN   \n",
       "infiniti   1.8954  1.32439  2.79984  1.45328  3.00862  2.53535  2.19249   \n",
       "ford      1.43192  1.50933  1.05763  2.05599  1.64695  1.80587   1.9781   \n",
       "subaru     1.1839  1.28525  1.37919  1.37314  1.88342  1.78939  1.52044   \n",
       "\n",
       "         infiniti     ford   subaru  \n",
       "bmw        1.8954  1.43192   1.1839  \n",
       "toyota    1.32439  1.50933  1.28525  \n",
       "pontiac   2.79984  1.05763  1.37919  \n",
       "honda     1.45328  2.05599  1.37314  \n",
       "acura     3.00862  1.64695  1.88342  \n",
       "audi      2.53535  1.80587  1.78939  \n",
       "nissan    2.19249   1.9781  1.52044  \n",
       "infiniti      NaN  1.54177  1.81227  \n",
       "ford      1.54177      NaN  1.83064  \n",
       "subaru    1.81227  1.83064      NaN  "
      ]
     },
     "execution_count": 78,
     "metadata": {},
     "output_type": "execute_result"
    }
   ],
   "source": [
    "lift_df = pd.DataFrame(columns=listof10, index=listof10)\n",
    "\n",
    "for brand1, series in list(lift_df.iterrows()):\n",
    "    for brand2 in series.index:\n",
    "        if brand1 != brand2:\n",
    "            lift_df[brand1].loc[brand2] = lift(brand2, brand1)\n",
    "\n",
    "lift_df"
   ]
  },
  {
   "cell_type": "markdown",
   "metadata": {},
   "source": [
    "#### Task B:\n",
    "What insights can you offer brand managers from your analysis in Task A    (choose two brands that you can offer the most interesting/useful insights for)? "
   ]
  },
  {
   "cell_type": "code",
   "execution_count": null,
   "metadata": {
    "collapsed": true
   },
   "outputs": [],
   "source": []
  },
  {
   "cell_type": "markdown",
   "metadata": {},
   "source": [
    "#### Task C:\n",
    "What are 5   most frequently mentioned attributes of cars in the discussions? Note that the same attribute may be described by different words –   e.g., pick-up and acceleration may both referto a more general attribute, “performance”. You have to make suitable replacements. Now pick the 5 most frequently mentioned brands. Which attributes are most strongly associated with which of these 5   brands? You DON’T have to do a sentiment analysis for this assignment.\n",
    "While BMW has claimed that they are the “ultimate driving machine”, is    that how people feel on Edmunds? Show your analysis.   "
   ]
  },
  {
   "cell_type": "code",
   "execution_count": null,
   "metadata": {
    "collapsed": true
   },
   "outputs": [],
   "source": []
  },
  {
   "cell_type": "markdown",
   "metadata": {},
   "source": [
    "#### Task D:\n",
    "What advice will you give to a (i) product manager, and (ii) marketing/advertising manager of these brands based on your analysis in Task C? For this assignment, you can assume the sentiment (e.g., that it   is    positive). "
   ]
  },
  {
   "cell_type": "code",
   "execution_count": null,
   "metadata": {
    "collapsed": true
   },
   "outputs": [],
   "source": []
  },
  {
   "cell_type": "markdown",
   "metadata": {},
   "source": [
    "#### Task E:\n",
    "Which is the most aspirational brand in your data in terms of people actually wanting to buy or own? Describe your analysis. What are the business implications for this brand? Provide the following details in your write-up (I    am not setting a   strict page limit, but 3-4 pages, single-spaced, 11 font size should be enough with screenshots)\n",
    "\n",
    "1.Which forum you chose (provide URL) \n",
    "\n",
    "2.Which 10 brands you chose –   provide the frequency table\n",
    "\n",
    "3.Show all lift calculations in a   table.\n",
    "\n",
    "4.Show the MDS map (put screenshots in your report)\n",
    "\n",
    "5.State the 5   attributes you chose (again, a   table is    good here). \n",
    "\n",
    "6.For task E, provide all details of your analysis –   e.g., how you measured “aspirational” and howyou found the most aspirational brand.\n",
    "\n",
    "7.Advice/insights based on your analysis for brand, product and advertising managers. Your submission should include all scripts as well as your answers to the questions above (generally speaking, I  won’t run these scripts, but if   the numbers don’t look right, I may run some of them). Also include the final data file after all replacements of models and attributes have been done."
   ]
  },
  {
   "cell_type": "code",
   "execution_count": null,
   "metadata": {
    "collapsed": true
   },
   "outputs": [],
   "source": []
  }
 ],
 "metadata": {
  "kernelspec": {
   "display_name": "Python 2",
   "language": "python",
   "name": "python2"
  },
  "language_info": {
   "codemirror_mode": {
    "name": "ipython",
    "version": 2
   },
   "file_extension": ".py",
   "mimetype": "text/x-python",
   "name": "python",
   "nbconvert_exporter": "python",
   "pygments_lexer": "ipython2",
   "version": "2.7.13"
  }
 },
 "nbformat": 4,
 "nbformat_minor": 2
}
